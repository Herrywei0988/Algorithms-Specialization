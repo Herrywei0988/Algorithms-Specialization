{
 "cells": [
  {
   "cell_type": "code",
   "execution_count": null,
   "id": "a2e68626",
   "metadata": {},
   "outputs": [],
   "source": [
    "#Question 1\n",
    "#In this programming problem and the next you'll code up the knapsack algorithm from lecture. Let's start with \n",
    "# a warm-up. Download the text file here. This file describes a knapsack instance, and it has the following format:\n",
    "#[knapsack_size][number_of_items]\n",
    "#[value_1] [weight_1]\n",
    "#[value_2] [weight_2]\n",
    "#...\n",
    "#For example, the third line of the file is \"50074 659\", indicating that the second item has value 50074 and size 659, respectively.\n",
    "#You can assume that all numbers are positive. You should assume that item weights and the knapsack capacity are integers.\n",
    "#\n",
    "#In the box below, type in the value of the optimal solution.\n",
    "#\n",
    "#ADVICE: If you're not getting the correct answer, try debugging your algorithm using some small test cases. \n",
    "# And then post them to the discussion forum!"
   ]
  },
  {
   "cell_type": "code",
   "execution_count": 8,
   "id": "958019b7",
   "metadata": {},
   "outputs": [],
   "source": [
    "import pandas as pd\n",
    "df = pd.read_csv(\"D:/Users/Herry/Downloads/knapsack1.txt\")"
   ]
  },
  {
   "cell_type": "code",
   "execution_count": 7,
   "id": "fd48a638",
   "metadata": {},
   "outputs": [
    {
     "name": "stdout",
     "output_type": "stream",
     "text": [
      "2493893\n"
     ]
    }
   ],
   "source": [
    "# Read input from the file and split the lines into lists of integers\n",
    "lines = [list(map(int, x.split(' '))) for x in open('D:/Users/Herry/Downloads/knapsack1.txt', 'r').read().split('\\n')[:-1]]\n",
    "\n",
    "# Extract the capacity of the knapsack from the first line and the list of items from the remaining lines\n",
    "capacity = lines[0][0]\n",
    "items = lines[1:]\n",
    "\n",
    "# Initialize a list to store subproblems, starting with an empty knapsack\n",
    "subproblems = []\n",
    "subproblems.append([0 for cap in range(capacity + 1)])\n",
    "\n",
    "# Iterate over each item and compute the maximum value for each subproblem\n",
    "for i, item in enumerate(items):\n",
    "    subproblem = []\n",
    "    for cap in range(capacity + 1):\n",
    "        # Calculate the maximum value for the current subproblem\n",
    "        subproblem.append(max(subproblems[i][cap], subproblems[i][cap - item[1]] + item[0] if cap - item[1] >= 0 else 0))\n",
    "    # Store the results of the current subproblem for future reference\n",
    "    subproblems.append(subproblem)\n",
    "\n",
    "# The final result is the maximum value achievable with the given capacity and items\n",
    "print(subproblems[-1][-1])\n"
   ]
  }
 ],
 "metadata": {
  "kernelspec": {
   "display_name": "Python 3 (ipykernel)",
   "language": "python",
   "name": "python3"
  },
  "language_info": {
   "codemirror_mode": {
    "name": "ipython",
    "version": 3
   },
   "file_extension": ".py",
   "mimetype": "text/x-python",
   "name": "python",
   "nbconvert_exporter": "python",
   "pygments_lexer": "ipython3",
   "version": "3.9.13"
  }
 },
 "nbformat": 4,
 "nbformat_minor": 5
}
