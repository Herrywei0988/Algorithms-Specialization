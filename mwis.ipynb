{
 "cells": [
  {
   "cell_type": "code",
   "execution_count": 1,
   "id": "e0920a0a",
   "metadata": {},
   "outputs": [],
   "source": [
    "import pandas as pd\n",
    "df = pd.read_csv(\"D:/Users/Herry/Downloads/mwis.txt\")"
   ]
  },
  {
   "cell_type": "code",
   "execution_count": 4,
   "id": "cdd2fe86",
   "metadata": {},
   "outputs": [
    {
     "name": "stdout",
     "output_type": "stream",
     "text": [
      "[1, 3, 5, 8, 10, 13, 15, 18, 20, 22, 24, 26, 28, 31, 33, 36, 38, 40, 42, 44, 46, 48, 50, 52, 54, 56, 58, 60, 62, 64, 66, 69, 72, 75, 77, 79, 81, 83, 85, 88, 90, 92, 94, 96, 98, 100, 103, 106, 108, 110, 112, 115, 117, 120, 122, 124, 126, 128, 131, 133, 136, 139, 141, 143, 145, 147, 149, 151, 153, 155, 157, 160, 162, 164, 166, 168, 170, 173, 175, 177, 179, 181, 183, 185, 187, 190, 193, 195, 197, 199, 201, 203, 205, 207, 209, 211, 214, 216, 218, 221, 223, 226, 228, 230, 232, 234, 236, 238, 240, 243, 245, 247, 249, 252, 254, 256, 258, 261, 263, 265, 267, 269, 271, 273, 275, 277, 279, 281, 283, 285, 287, 289, 292, 294, 296, 298, 300, 302, 304, 306, 308, 310, 312, 314, 316, 318, 321, 323, 325, 327, 329, 331, 333, 335, 337, 339, 341, 343, 345, 347, 349, 351, 353, 355, 357, 359, 361, 363, 365, 367, 369, 371, 373, 375, 377, 379, 381, 383, 385, 387, 389, 391, 393, 395, 397, 399, 402, 404, 406, 408, 410, 413, 415, 417, 420, 422, 425, 427, 429, 431, 433, 435, 437, 439, 441, 443, 445, 447, 449, 451, 454, 456, 458, 460, 462, 464, 466, 468, 470, 472, 474, 476, 478, 481, 483, 485, 488, 490, 492, 494, 496, 498, 500, 503, 505, 508, 510, 512, 514, 517, 519, 521, 523, 525, 527, 529, 531, 534, 537, 539, 541, 543, 545, 548, 550, 552, 554, 556, 558, 560, 563, 566, 569, 571, 573, 575, 577, 579, 581, 584, 586, 588, 590, 592, 594, 596, 598, 600, 602, 604, 606, 608, 610, 613, 615, 617, 619, 621, 623, 625, 628, 630, 632, 634, 637, 639, 641, 643, 645, 647, 649, 652, 654, 656, 658, 660, 662, 664, 666, 669, 671, 673, 676, 679, 682, 684, 686, 688, 690, 692, 695, 697, 699, 702, 704, 706, 708, 710, 713, 715, 717, 719, 721, 723, 726, 728, 730, 733, 735, 737, 739, 741, 743, 745, 748, 750, 752, 755, 757, 760, 763, 766, 768, 770, 772, 774, 776, 778, 781, 784, 786, 788, 790, 793, 795, 797, 799, 801, 803, 806, 809, 812, 814, 816, 819, 821, 823, 825, 827, 829, 832, 834, 837, 839, 841, 843, 846, 849, 851, 853, 855, 857, 859, 861, 864, 866, 868, 871, 873, 876, 878, 880, 882, 884, 886, 888, 890, 892, 894, 896, 898, 900, 903, 905, 907, 909, 911, 913, 915, 917, 919, 921, 924, 927, 929, 932, 934, 936, 938, 940, 942, 944, 946, 948, 950, 952, 954, 956, 958, 960, 962, 964, 966, 969, 971, 973, 975, 977, 979, 981, 983, 985, 987, 989, 991, 993, 995, 998, 1000]\n",
      "1 True\n",
      "2 False\n",
      "3 True\n",
      "4 False\n",
      "17 False\n",
      "117 True\n",
      "517 True\n",
      "997 False\n"
     ]
    }
   ],
   "source": [
    "class DynamicProgramming:\n",
    "\n",
    "    def __init__(self, data):\n",
    "\n",
    "        self.A = [0]*(len(data) + 1)\n",
    "        self.weights = data\n",
    "        \n",
    "        self.A[1] = self.weights[0]\n",
    "\n",
    "        self.path = []\n",
    "\n",
    "    def MaxWeightedIndeSets(self):\n",
    "        \n",
    "        for idx, weight in enumerate(self.weights[1:]):\n",
    "\n",
    "            self.A[idx+2] = max(self.A[idx+1], self.A[idx]+weight)\n",
    "\n",
    "\n",
    "    def ReconstructPath(self):\n",
    "\n",
    "        i = len(self.A)-1\n",
    "        \n",
    "        while i > 1:\n",
    "            #### find the selecting path\n",
    "            if self.A[i] == self.A[i-2] + self.weights[i-1]:\n",
    "                self.path.append(i-1)\n",
    "                i -= 2\n",
    "            elif self.A[i] == self.A[i-1]:\n",
    "                i -= 1\n",
    "                continue\n",
    "        ### check the base case of weights, \n",
    "        # if the third (3) node is included in the path, then the first should be also inside\n",
    "        if i == 1:\n",
    "            self.path.append(0)\n",
    "            \n",
    "        self.path = self.path[::-1]\n",
    "        ### the index of assignment is from 1\n",
    "        self.path = list(map(lambda x: x+1, self.path))\n",
    "\n",
    "if __name__ == \"__main__\":\n",
    "\n",
    "    txt_file = './mwis.txt'\n",
    "\n",
    "    data = []\n",
    "\n",
    "    with open(\"D:/Users/Herry/Downloads/mwis.txt\", 'r') as f:\n",
    "        for line in f.readlines()[1:]:\n",
    "\n",
    "            num = line.split()[0]\n",
    "\n",
    "            data.append(int(num))\n",
    "    \n",
    "    dp = DynamicProgramming(data)\n",
    "    dp.MaxWeightedIndeSets()\n",
    "    dp.ReconstructPath()\n",
    "\n",
    "    # print(dp.A)\n",
    "    print(dp.path)\n",
    "\n",
    "    for i in [1, 2, 3, 4, 17, 117, 517, 997]:\n",
    "        print(i, i in dp.path)"
   ]
  },
  {
   "cell_type": "code",
   "execution_count": null,
   "id": "eff6eb09",
   "metadata": {},
   "outputs": [],
   "source": []
  }
 ],
 "metadata": {
  "kernelspec": {
   "display_name": "Python 3 (ipykernel)",
   "language": "python",
   "name": "python3"
  },
  "language_info": {
   "codemirror_mode": {
    "name": "ipython",
    "version": 3
   },
   "file_extension": ".py",
   "mimetype": "text/x-python",
   "name": "python",
   "nbconvert_exporter": "python",
   "pygments_lexer": "ipython3",
   "version": "3.9.13"
  }
 },
 "nbformat": 4,
 "nbformat_minor": 5
}
