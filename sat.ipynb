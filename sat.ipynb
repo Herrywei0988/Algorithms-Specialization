{
 "cells": [
  {
   "cell_type": "code",
   "execution_count": 1,
   "id": "e8b0dee5",
   "metadata": {},
   "outputs": [],
   "source": [
    "import pandas as pd\n",
    "df = pd.read_csv(\"D:/Users/Herry/Downloads/2sat1.txt\")\n",
    "df = pd.read_csv(\"D:/Users/Herry/Downloads/2sat2.txt\")\n",
    "df = pd.read_csv(\"D:/Users/Herry/Downloads/2sat3.txt\")\n",
    "df = pd.read_csv(\"D:/Users/Herry/Downloads/2sat4.txt\")\n",
    "df = pd.read_csv(\"D:/Users/Herry/Downloads/2sat5.txt\")\n",
    "df = pd.read_csv(\"D:/Users/Herry/Downloads/2sat6.txt\")"
   ]
  },
  {
   "cell_type": "code",
   "execution_count": 3,
   "id": "e1e19424",
   "metadata": {},
   "outputs": [
    {
     "name": "stdout",
     "output_type": "stream",
     "text": [
      "True\n",
      "False\n",
      "True\n",
      "True\n",
      "False\n",
      "False\n"
     ]
    }
   ],
   "source": [
    "def dfs(graph, s, visited, st):\n",
    "    st2 = []\n",
    "    st2.append(s)\n",
    "    startTimes = set()\n",
    "    while len(st2):\n",
    "        v = st2[-1]\n",
    "        if v not in startTimes: # first time\n",
    "            visited.add(v)\n",
    "            if v in graph:\n",
    "                for v2 in graph[v]:\n",
    "                    if v2 not in visited:\n",
    "                        st2.append(v2)\n",
    "            startTimes.add(v)\n",
    "        else:\n",
    "            st.append(v)\n",
    "            st2.pop()\n",
    "\n",
    "FILE_NAMES = [\"D:/Users/Herry/Downloads/2sat1.txt\",\n",
    "              \"D:/Users/Herry/Downloads/2sat2.txt\",\n",
    "              \"D:/Users/Herry/Downloads/2sat3.txt\",\n",
    "              \"D:/Users/Herry/Downloads/2sat4.txt\",\n",
    "              \"D:/Users/Herry/Downloads/2sat5.txt\",\n",
    "              \"D:/Users/Herry/Downloads/2sat6.txt\"]\n",
    "\n",
    "for fName in FILE_NAMES:\n",
    "    sat = True\n",
    "    f = open(fName)\n",
    "    nVar = int(f.readline())\n",
    "    lines = f.readlines()\n",
    "    f.close()\n",
    "    graph = {}\n",
    "    for line in lines:\n",
    "        v1, v2 = map(int, line.split()) # A v B\n",
    "        # ^A => B\n",
    "        if -v1 in graph:\n",
    "            graph[-v1].append(v2)\n",
    "        else:    graph[-v1] = [v2]\n",
    "        # ^B => A\n",
    "        if -v2 in graph:\n",
    "            graph[-v2].append(v1)\n",
    "        else:    graph[-v2] = [v1]\n",
    "##################################################\n",
    "    #1. DFS\n",
    "    visited = set()\n",
    "    st = []\n",
    "    for v in graph:\n",
    "        if v not in visited:\n",
    "            dfs(graph, v, visited, st)\n",
    "    #2. Reverse the graph\n",
    "    tGraph = {}\n",
    "    for v1 in graph:\n",
    "        for v2 in graph[v1]:\n",
    "            if v2 in tGraph:\n",
    "                tGraph[v2].append(v1)\n",
    "            else:    tGraph[v2] = [v1]\n",
    "    #3. DFS again\n",
    "    visited = set()\n",
    "    while len(st):\n",
    "        v = st.pop()\n",
    "        if v not in visited:\n",
    "            scc = []\n",
    "            dfs(tGraph, v, visited, scc)\n",
    "            scc = set(scc)\n",
    "            for v in scc:\n",
    "                if -v in scc:\n",
    "                    sat = False\n",
    "    print(sat)"
   ]
  },
  {
   "cell_type": "code",
   "execution_count": null,
   "id": "61db578d",
   "metadata": {},
   "outputs": [],
   "source": []
  }
 ],
 "metadata": {
  "kernelspec": {
   "display_name": "Python 3 (ipykernel)",
   "language": "python",
   "name": "python3"
  },
  "language_info": {
   "codemirror_mode": {
    "name": "ipython",
    "version": 3
   },
   "file_extension": ".py",
   "mimetype": "text/x-python",
   "name": "python",
   "nbconvert_exporter": "python",
   "pygments_lexer": "ipython3",
   "version": "3.9.13"
  }
 },
 "nbformat": 4,
 "nbformat_minor": 5
}
